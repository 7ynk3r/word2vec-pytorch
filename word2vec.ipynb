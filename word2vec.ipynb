{
 "cells": [
  {
   "cell_type": "code",
   "execution_count": 1,
   "metadata": {},
   "outputs": [
    {
     "data": {
      "text/plain": [
       "<torch._C.Generator at 0x7ff518029768>"
      ]
     },
     "execution_count": 1,
     "metadata": {},
     "output_type": "execute_result"
    }
   ],
   "source": [
    "# see http://pytorch.org/tutorials/beginner/nlp/word_embeddings_tutorial.html\n",
    "import torch\n",
    "from torch.autograd import Variable\n",
    "import torch.nn as nn\n",
    "import torch.nn.functional as F\n",
    "import torch.optim as optim\n",
    "\n",
    "torch.manual_seed(1)"
   ]
  },
  {
   "cell_type": "code",
   "execution_count": 2,
   "metadata": {},
   "outputs": [
    {
     "name": "stdout",
     "output_type": "stream",
     "text": [
      "vocab_size: 50\n"
     ]
    }
   ],
   "source": [
    "CONTEXT_SIZE = 2  # 2 words to the left, 2 to the right\n",
    "train_text = \"\"\"We are about to study the idea of a computational process.\n",
    "Computational processes are abstract beings that inhabit computers.\n",
    "As they evolve, processes manipulate other abstract things called data.\n",
    "The evolution of a process is directed by a pattern of rules\n",
    "called a program. People create programs to direct processes. In effect,\n",
    "we conjure the spirits of the computer with our spells.\"\"\".split()\n",
    "test_text = \"We can study the idea of a computational process.\".split()\n",
    "\n",
    "# By deriving a set from `raw_text`, we deduplicate the array\n",
    "vocab = set(train_text + test_text)\n",
    "vocab_size = len(vocab)\n",
    "print('vocab_size:', vocab_size)\n",
    "\n",
    "w2i = {w: i for i, w in enumerate(vocab)}\n",
    "i2w = {i: w for i, w in enumerate(vocab)}"
   ]
  },
  {
   "cell_type": "code",
   "execution_count": 3,
   "metadata": {
    "collapsed": true
   },
   "outputs": [],
   "source": [
    "def create_cbow_dataset(text):\n",
    "    # context window is two, so four words are context\n",
    "    data = []\n",
    "    for i in range(2, len(text) - 2):\n",
    "        context = [text[i - 2], text[i - 1],\n",
    "                   text[i + 1], text[i + 2]]\n",
    "        target = text[i]\n",
    "        data.append((context, target))\n",
    "    return data\n",
    "\n",
    "cbow_train = create_cbow_dataset(train_text)\n",
    "cbow_test = create_cbow_dataset(test_text)"
   ]
  },
  {
   "cell_type": "code",
   "execution_count": 4,
   "metadata": {
    "collapsed": true
   },
   "outputs": [],
   "source": [
    "class CBOW(nn.Module):\n",
    "    def __init__(self, vocab_size, embd_size, context_size, hidden_size):\n",
    "        super(CBOW, self).__init__()\n",
    "        self.embeddings = nn.Embedding(vocab_size, embd_size)\n",
    "        self.linear1 = nn.Linear(2*context_size*embd_size, hidden_size)\n",
    "        self.linear2 = nn.Linear(hidden_size, vocab_size)\n",
    "        \n",
    "    def forward(self, inputs):\n",
    "        embedded = self.embeddings(inputs).view((1, -1))\n",
    "        hid = F.relu(self.linear1(embedded))\n",
    "        out = self.linear2(hid)\n",
    "        log_probs = F.log_softmax(out)\n",
    "        return log_probs"
   ]
  },
  {
   "cell_type": "code",
   "execution_count": 5,
   "metadata": {},
   "outputs": [
    {
     "name": "stdout",
     "output_type": "stream",
     "text": [
      "[\n",
      " 228.0627\n",
      "[torch.FloatTensor of size 1]\n",
      ", \n",
      " 222.6559\n",
      "[torch.FloatTensor of size 1]\n",
      ", \n",
      " 217.4730\n",
      "[torch.FloatTensor of size 1]\n",
      ", \n",
      " 212.5053\n",
      "[torch.FloatTensor of size 1]\n",
      ", \n",
      " 207.6947\n",
      "[torch.FloatTensor of size 1]\n",
      ", \n",
      " 203.0198\n",
      "[torch.FloatTensor of size 1]\n",
      ", \n",
      " 198.4566\n",
      "[torch.FloatTensor of size 1]\n",
      ", \n",
      " 193.9582\n",
      "[torch.FloatTensor of size 1]\n",
      ", \n",
      " 189.5747\n",
      "[torch.FloatTensor of size 1]\n",
      ", \n",
      " 185.2126\n",
      "[torch.FloatTensor of size 1]\n",
      "]\n"
     ]
    }
   ],
   "source": [
    "embd_size = 128\n",
    "hidden_size = 64\n",
    "losses = []\n",
    "loss_fn = nn.NLLLoss()\n",
    "model = CBOW(vocab_size, embd_size, CONTEXT_SIZE, hidden_size)\n",
    "optimizer = optim.SGD(model.parameters(), lr=0.001)\n",
    "\n",
    "for epoch in range(10):\n",
    "    total_loss = torch.Tensor([0])\n",
    "    for ctx, target in cbow_train:\n",
    "        ctx_idxs = [w2i[w] for w in ctx]\n",
    "        ctx_var = Variable(torch.LongTensor(ctx_idxs))\n",
    "        \n",
    "        model.zero_grad()\n",
    "        log_probs = model(ctx_var)\n",
    "        \n",
    "        loss = loss_fn(log_probs, Variable(torch.LongTensor([w2i[target]])))\n",
    "        \n",
    "        loss.backward()\n",
    "        optimizer.step()\n",
    "        \n",
    "        total_loss += loss.data\n",
    "    losses.append(total_loss)\n",
    "print(losses)"
   ]
  },
  {
   "cell_type": "code",
   "execution_count": 12,
   "metadata": {},
   "outputs": [
    {
     "name": "stdout",
     "output_type": "stream",
     "text": [
      "predicted: they\n",
      "label    : study \n",
      "\n",
      "predicted: the\n",
      "label    : the \n",
      "\n",
      "predicted: idea\n",
      "label    : idea \n",
      "\n",
      "predicted: of\n",
      "label    : of \n",
      "\n",
      "predicted: a\n",
      "label    : a \n",
      "\n",
      "Accuracy: 80.0% (4/5)\n"
     ]
    }
   ],
   "source": [
    "correct_ct = 0\n",
    "for ctx, target in cbow_test:\n",
    "    ctx_idxs = [w2i[w] for w in ctx]\n",
    "    ctx_var = Variable(torch.LongTensor(ctx_idxs))\n",
    "\n",
    "    model.zero_grad()\n",
    "    log_probs = model(ctx_var)\n",
    "    _, predicted = torch.max(log_probs.data, 1)\n",
    "    predicted_word = i2w[predicted[0]]\n",
    "    print('predicted:', predicted_word)\n",
    "    print('label    :', target, '\\n')\n",
    "    if predicted_word == target:\n",
    "        correct_ct += 1\n",
    "\n",
    "    loss = loss_fn(log_probs, Variable(torch.LongTensor([w2i[target]])))\n",
    "\n",
    "    loss.backward()\n",
    "    optimizer.step()\n",
    "\n",
    "    total_loss += loss.data\n",
    "print('Accuracy: {:.1f}% ({:d}/{:d})'.format(correct_ct/len(cbow_test)*100, correct_ct, len(cbow_test)))"
   ]
  },
  {
   "cell_type": "code",
   "execution_count": null,
   "metadata": {
    "collapsed": true
   },
   "outputs": [],
   "source": []
  }
 ],
 "metadata": {
  "kernelspec": {
   "display_name": "Python 3",
   "language": "python",
   "name": "python3"
  },
  "language_info": {
   "codemirror_mode": {
    "name": "ipython",
    "version": 3
   },
   "file_extension": ".py",
   "mimetype": "text/x-python",
   "name": "python",
   "nbconvert_exporter": "python",
   "pygments_lexer": "ipython3",
   "version": "3.6.1"
  }
 },
 "nbformat": 4,
 "nbformat_minor": 2
}
